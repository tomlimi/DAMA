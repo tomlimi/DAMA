{
 "cells": [
  {
   "cell_type": "code",
   "execution_count": 136,
   "metadata": {
    "collapsed": true,
    "ExecuteTime": {
     "end_time": "2023-09-06T14:38:04.577034267Z",
     "start_time": "2023-09-06T14:38:04.406268442Z"
    }
   },
   "outputs": [
    {
     "name": "stdout",
     "output_type": "stream",
     "text": [
      "The autoreload extension is already loaded. To reload it, use:\n",
      "  %reload_ext autoreload\n"
     ]
    }
   ],
   "source": [
    "%load_ext autoreload\n",
    "%autoreload 2"
   ]
  },
  {
   "cell_type": "code",
   "execution_count": 137,
   "outputs": [],
   "source": [
    "import json\n",
    "import os, sys\n",
    "import numpy as np\n",
    "import pandas as pd\n",
    "\n",
    "current_path = os.getcwd()\n",
    "sys.path.append(os.path.join(current_path, '..'))\n",
    "\n",
    "from adapt_model import parse_experiment_name\n",
    "from utils.globals import *\n"
   ],
   "metadata": {
    "collapsed": false,
    "ExecuteTime": {
     "end_time": "2023-09-06T14:38:04.577260368Z",
     "start_time": "2023-09-06T14:38:04.547169656Z"
    }
   }
  },
  {
   "cell_type": "code",
   "execution_count": 138,
   "outputs": [
    {
     "name": "stdout",
     "output_type": "stream",
     "text": [
      "coref_res.csv\t       gen_res_neutral.csv  original\r\n",
      "coref_res_neutral.csv  gen_res_nw_7B.csv    results_known_disable_mlp_10.jsonl\r\n",
      "coref_res_nw_7B.csv    lm_res.csv\t    ROME\r\n",
      "DAMA\t\t       lm_res_neutral.csv\r\n",
      "gen_res.csv\t       lm_res_nw_7B.csv\r\n"
     ]
    }
   ],
   "source": [
    "!ls $RESULTS_DIR"
   ],
   "metadata": {
    "collapsed": false,
    "ExecuteTime": {
     "end_time": "2023-09-06T14:38:04.751386237Z",
     "start_time": "2023-09-06T14:38:04.563537859Z"
    }
   }
  },
  {
   "cell_type": "code",
   "execution_count": 139,
   "outputs": [],
   "source": [
    "model_name = 'llama_13B'\n",
    "\n",
    "default_params = {\n",
    "    'iterative_update': False,\n",
    "    'mixed_update': True,\n",
    "    'task': 'gen',\n",
    "    'post_linear': True,\n",
    "    'batch_size': 1,\n",
    "    'orthogonal_constraint': 0.0,\n",
    "    'no_colinear_vs': True,\n",
    "    'use_neutral': True,\n",
    "    'vs_at_last': True,\n",
    "    'delta_only': True,\n",
    "    'nw': True\n",
    "}\n",
    "\n",
    "variable_parameters = {\n",
    "    'num_layers': [8, 10, 12,14],\n",
    "    'null_dim': [32,64, 128, 256, 512, 1024]\n",
    "}\n",
    "\n"
   ],
   "metadata": {
    "collapsed": false,
    "ExecuteTime": {
     "end_time": "2023-09-06T14:38:04.839719254Z",
     "start_time": "2023-09-06T14:38:04.753504483Z"
    }
   }
  },
  {
   "cell_type": "code",
   "execution_count": 140,
   "outputs": [],
   "source": [
    "def load_data_file(model_name, method, experiment_name, test_file):\n",
    "    if experiment_name and 'method' != 'original':\n",
    "        result_dir = os.path.join(model_name,experiment_name)\n",
    "    else:\n",
    "        result_dir = model_name\n",
    "    result_file = os.path.join(RESULTS_DIR, method, result_dir, test_file)\n",
    "    try:\n",
    "        with open(result_file, 'r') as f:\n",
    "            results = json.load(f)\n",
    "    except FileNotFoundError:\n",
    "        print(f\"File {result_file} not found\")\n",
    "        results = None\n",
    "\n",
    "    return results"
   ],
   "metadata": {
    "collapsed": false,
    "ExecuteTime": {
     "end_time": "2023-09-06T14:38:04.883264884Z",
     "start_time": "2023-09-06T14:38:04.839408265Z"
    }
   }
  },
  {
   "cell_type": "markdown",
   "source": [
    "Process generation results"
   ],
   "metadata": {
    "collapsed": false
   }
  },
  {
   "cell_type": "code",
   "execution_count": 141,
   "outputs": [],
   "source": [
    "def parse_generation_results(layers, dimensions, results):\n",
    "    out_row = {'layers': layers, 'dimensions': dimensions}\n",
    "    for key in (\n",
    "            #'slope_s', 'intercept_s', 'slope_f',\n",
    "            'intercept_f', 'joint_slope_s', 'joint_slope_f', 'joint_intercept', 'prob_he', 'prob_she', 'prob_they', 'spearman_s', 'spearman_f'):\n",
    "        if results is None:\n",
    "            out_row[key] = 0.\n",
    "        else:\n",
    "            out_row[key] = results[key]\n",
    "    return out_row"
   ],
   "metadata": {
    "collapsed": false,
    "ExecuteTime": {
     "end_time": "2023-09-06T14:38:04.915639748Z",
     "start_time": "2023-09-06T14:38:04.883464933Z"
    }
   }
  },
  {
   "cell_type": "code",
   "execution_count": 142,
   "outputs": [
    {
     "name": "stdout",
     "output_type": "stream",
     "text": [
      "File ../../../results/DAMA/llama_13B/l8_on_nd32_ncv_val_neutral_delta_only_nw/res_gen_test_dama.json not found\n",
      "File ../../../results/DAMA/llama_13B/l8_on_nd256_ncv_val_neutral_delta_only_nw/res_gen_test_dama.json not found\n",
      "File ../../../results/DAMA/llama_13B/l10_on_nd32_ncv_val_neutral_delta_only_nw/res_gen_test_dama.json not found\n",
      "File ../../../results/DAMA/llama_13B/l10_on_nd256_ncv_val_neutral_delta_only_nw/res_gen_test_dama.json not found\n",
      "File ../../../results/DAMA/llama_13B/l12_on_nd32_ncv_val_neutral_delta_only_nw/res_gen_test_dama.json not found\n",
      "File ../../../results/DAMA/llama_13B/l12_on_nd256_ncv_val_neutral_delta_only_nw/res_gen_test_dama.json not found\n",
      "File ../../../results/DAMA/llama_13B/l14_on_nd32_ncv_val_neutral_delta_only_nw/res_gen_test_dama.json not found\n",
      "File ../../../results/DAMA/llama_13B/l14_on_nd256_ncv_val_neutral_delta_only_nw/res_gen_test_dama.json not found\n"
     ]
    }
   ],
   "source": [
    "gen_res = pd.DataFrame(columns=['layers', 'dimensions',\n",
    "                                #'slope_s', 'intercept_s', 'slope_f', 'intercept_f',\n",
    "                                'joint_slope_s', 'joint_slope_f', 'joint_intercept','prob_he', 'prob_she', 'prob_they',\n",
    "                                'spearman_s', 'spearman_f'])\n",
    "test_file = 'res_gen_test_dama.json'\n",
    "# row = {'layers': None,'dimensions': None, 'slope_s': 0. ,'intercept_s': 0., 'slope_f': 0., 'intercept_f': 0.,\n",
    "#        'prob_he': 0., 'prob_she': 0., 'prob_they': 0.}\n",
    "\n",
    "tmp_res = load_data_file(model_name, 'original', None, test_file)\n",
    "\n",
    "gen_res.loc[len(gen_res)] = parse_generation_results(0, 0, tmp_res)\n",
    "\n",
    "for num_layers in variable_parameters['num_layers']:\n",
    "    for null_dim in variable_parameters['null_dim']:\n",
    "        vs_at_last = True\n",
    "        experiment_name = parse_experiment_name(**default_params, num_layers=num_layers, null_dim=null_dim)\n",
    "        tmp_res = load_data_file(model_name, 'DAMA', experiment_name, test_file)\n",
    "        gen_res.loc[len(gen_res)] = parse_generation_results(num_layers, null_dim, tmp_res)"
   ],
   "metadata": {
    "collapsed": false,
    "ExecuteTime": {
     "end_time": "2023-09-06T14:38:05.024451777Z",
     "start_time": "2023-09-06T14:38:04.918927512Z"
    }
   }
  },
  {
   "cell_type": "code",
   "execution_count": 143,
   "outputs": [
    {
     "data": {
      "text/plain": "    layers  dimensions  joint_slope_s  joint_slope_f  joint_intercept   \n0        0           0       0.270104       0.350547         0.067949  \\\n1        8          32       0.000000       0.000000         0.000000   \n2        8          64       0.217992       0.306501         0.047397   \n3        8         128       0.212114       0.301825         0.048876   \n4        8         256       0.000000       0.000000         0.000000   \n5        8         512       0.187360       0.280433         0.047369   \n6        8        1024       0.174635       0.266822         0.049124   \n7       10          32       0.000000       0.000000         0.000000   \n8       10          64       0.201679       0.278888         0.058910   \n9       10         128       0.187992       0.265056         0.059988   \n10      10         256       0.000000       0.000000         0.000000   \n11      10         512       0.148421       0.221682         0.059296   \n12      10        1024       0.128995       0.198803         0.055202   \n13      12          32       0.000000       0.000000         0.000000   \n14      12          64       0.200287       0.274485         0.015665   \n15      12         128       0.177395       0.247656         0.008356   \n16      12         256       0.000000       0.000000         0.000000   \n17      12         512       0.115328       0.182137         0.028644   \n18      12        1024       0.085196       0.146849         0.033087   \n19      14          32       0.000000       0.000000         0.000000   \n20      14          64       0.695935       0.631522         0.015767   \n21      14         128       0.612335       0.495957        -0.151263   \n22      14         256       0.000000       0.000000         0.000000   \n23      14         512       0.627835       0.484176        -0.212100   \n24      14        1024       0.625539       0.472466        -0.235830   \n\n     prob_he  prob_she  prob_they  spearman_s  spearman_f  \n0   0.284406  0.088571   0.021878    0.428092    0.592075  \n1   0.000000  0.000000   0.000000    0.000000    0.000000  \n2   0.245614  0.090755   0.030677    0.429735    0.623577  \n3   0.244836  0.090748   0.030086    0.429533    0.623456  \n4   0.000000  0.000000   0.000000    0.000000    0.000000  \n5   0.234479  0.091684   0.030426    0.424140    0.622560  \n6   0.228105  0.089057   0.030887    0.419574    0.616135  \n7   0.000000  0.000000   0.000000    0.000000    0.000000  \n8   0.232310  0.074821   0.035420    0.422702    0.595422  \n9   0.226544  0.073751   0.033320    0.418238    0.586191  \n10  0.000000  0.000000   0.000000    0.000000    0.000000  \n11  0.202620  0.067815   0.034476    0.401093    0.559218  \n12  0.184757  0.062824   0.032877    0.388135    0.541827  \n13  0.000000  0.000000   0.000000    0.000000    0.000000  \n14  0.202777  0.089661   0.041173    0.459926    0.677427  \n15  0.182651  0.087163   0.043343    0.469063    0.691637  \n16  0.000000  0.000000   0.000000    0.000000    0.000000  \n17  0.166542  0.077444   0.048807    0.468519    0.697902  \n18  0.149718  0.069756   0.048008    0.462382    0.697334  \n19  0.000000  0.000000   0.000000    0.000000    0.000000  \n20  0.456305  0.159991   0.012090    0.461107    0.521680  \n21  0.256687  0.171862   0.010158    0.495140    0.504450  \n22  0.000000  0.000000   0.000000    0.000000    0.000000  \n23  0.220339  0.194759   0.012613    0.507632    0.501995  \n24  0.202853  0.203664   0.012959    0.514030    0.508126  ",
      "text/html": "<div>\n<style scoped>\n    .dataframe tbody tr th:only-of-type {\n        vertical-align: middle;\n    }\n\n    .dataframe tbody tr th {\n        vertical-align: top;\n    }\n\n    .dataframe thead th {\n        text-align: right;\n    }\n</style>\n<table border=\"1\" class=\"dataframe\">\n  <thead>\n    <tr style=\"text-align: right;\">\n      <th></th>\n      <th>layers</th>\n      <th>dimensions</th>\n      <th>joint_slope_s</th>\n      <th>joint_slope_f</th>\n      <th>joint_intercept</th>\n      <th>prob_he</th>\n      <th>prob_she</th>\n      <th>prob_they</th>\n      <th>spearman_s</th>\n      <th>spearman_f</th>\n    </tr>\n  </thead>\n  <tbody>\n    <tr>\n      <th>0</th>\n      <td>0</td>\n      <td>0</td>\n      <td>0.270104</td>\n      <td>0.350547</td>\n      <td>0.067949</td>\n      <td>0.284406</td>\n      <td>0.088571</td>\n      <td>0.021878</td>\n      <td>0.428092</td>\n      <td>0.592075</td>\n    </tr>\n    <tr>\n      <th>1</th>\n      <td>8</td>\n      <td>32</td>\n      <td>0.000000</td>\n      <td>0.000000</td>\n      <td>0.000000</td>\n      <td>0.000000</td>\n      <td>0.000000</td>\n      <td>0.000000</td>\n      <td>0.000000</td>\n      <td>0.000000</td>\n    </tr>\n    <tr>\n      <th>2</th>\n      <td>8</td>\n      <td>64</td>\n      <td>0.217992</td>\n      <td>0.306501</td>\n      <td>0.047397</td>\n      <td>0.245614</td>\n      <td>0.090755</td>\n      <td>0.030677</td>\n      <td>0.429735</td>\n      <td>0.623577</td>\n    </tr>\n    <tr>\n      <th>3</th>\n      <td>8</td>\n      <td>128</td>\n      <td>0.212114</td>\n      <td>0.301825</td>\n      <td>0.048876</td>\n      <td>0.244836</td>\n      <td>0.090748</td>\n      <td>0.030086</td>\n      <td>0.429533</td>\n      <td>0.623456</td>\n    </tr>\n    <tr>\n      <th>4</th>\n      <td>8</td>\n      <td>256</td>\n      <td>0.000000</td>\n      <td>0.000000</td>\n      <td>0.000000</td>\n      <td>0.000000</td>\n      <td>0.000000</td>\n      <td>0.000000</td>\n      <td>0.000000</td>\n      <td>0.000000</td>\n    </tr>\n    <tr>\n      <th>5</th>\n      <td>8</td>\n      <td>512</td>\n      <td>0.187360</td>\n      <td>0.280433</td>\n      <td>0.047369</td>\n      <td>0.234479</td>\n      <td>0.091684</td>\n      <td>0.030426</td>\n      <td>0.424140</td>\n      <td>0.622560</td>\n    </tr>\n    <tr>\n      <th>6</th>\n      <td>8</td>\n      <td>1024</td>\n      <td>0.174635</td>\n      <td>0.266822</td>\n      <td>0.049124</td>\n      <td>0.228105</td>\n      <td>0.089057</td>\n      <td>0.030887</td>\n      <td>0.419574</td>\n      <td>0.616135</td>\n    </tr>\n    <tr>\n      <th>7</th>\n      <td>10</td>\n      <td>32</td>\n      <td>0.000000</td>\n      <td>0.000000</td>\n      <td>0.000000</td>\n      <td>0.000000</td>\n      <td>0.000000</td>\n      <td>0.000000</td>\n      <td>0.000000</td>\n      <td>0.000000</td>\n    </tr>\n    <tr>\n      <th>8</th>\n      <td>10</td>\n      <td>64</td>\n      <td>0.201679</td>\n      <td>0.278888</td>\n      <td>0.058910</td>\n      <td>0.232310</td>\n      <td>0.074821</td>\n      <td>0.035420</td>\n      <td>0.422702</td>\n      <td>0.595422</td>\n    </tr>\n    <tr>\n      <th>9</th>\n      <td>10</td>\n      <td>128</td>\n      <td>0.187992</td>\n      <td>0.265056</td>\n      <td>0.059988</td>\n      <td>0.226544</td>\n      <td>0.073751</td>\n      <td>0.033320</td>\n      <td>0.418238</td>\n      <td>0.586191</td>\n    </tr>\n    <tr>\n      <th>10</th>\n      <td>10</td>\n      <td>256</td>\n      <td>0.000000</td>\n      <td>0.000000</td>\n      <td>0.000000</td>\n      <td>0.000000</td>\n      <td>0.000000</td>\n      <td>0.000000</td>\n      <td>0.000000</td>\n      <td>0.000000</td>\n    </tr>\n    <tr>\n      <th>11</th>\n      <td>10</td>\n      <td>512</td>\n      <td>0.148421</td>\n      <td>0.221682</td>\n      <td>0.059296</td>\n      <td>0.202620</td>\n      <td>0.067815</td>\n      <td>0.034476</td>\n      <td>0.401093</td>\n      <td>0.559218</td>\n    </tr>\n    <tr>\n      <th>12</th>\n      <td>10</td>\n      <td>1024</td>\n      <td>0.128995</td>\n      <td>0.198803</td>\n      <td>0.055202</td>\n      <td>0.184757</td>\n      <td>0.062824</td>\n      <td>0.032877</td>\n      <td>0.388135</td>\n      <td>0.541827</td>\n    </tr>\n    <tr>\n      <th>13</th>\n      <td>12</td>\n      <td>32</td>\n      <td>0.000000</td>\n      <td>0.000000</td>\n      <td>0.000000</td>\n      <td>0.000000</td>\n      <td>0.000000</td>\n      <td>0.000000</td>\n      <td>0.000000</td>\n      <td>0.000000</td>\n    </tr>\n    <tr>\n      <th>14</th>\n      <td>12</td>\n      <td>64</td>\n      <td>0.200287</td>\n      <td>0.274485</td>\n      <td>0.015665</td>\n      <td>0.202777</td>\n      <td>0.089661</td>\n      <td>0.041173</td>\n      <td>0.459926</td>\n      <td>0.677427</td>\n    </tr>\n    <tr>\n      <th>15</th>\n      <td>12</td>\n      <td>128</td>\n      <td>0.177395</td>\n      <td>0.247656</td>\n      <td>0.008356</td>\n      <td>0.182651</td>\n      <td>0.087163</td>\n      <td>0.043343</td>\n      <td>0.469063</td>\n      <td>0.691637</td>\n    </tr>\n    <tr>\n      <th>16</th>\n      <td>12</td>\n      <td>256</td>\n      <td>0.000000</td>\n      <td>0.000000</td>\n      <td>0.000000</td>\n      <td>0.000000</td>\n      <td>0.000000</td>\n      <td>0.000000</td>\n      <td>0.000000</td>\n      <td>0.000000</td>\n    </tr>\n    <tr>\n      <th>17</th>\n      <td>12</td>\n      <td>512</td>\n      <td>0.115328</td>\n      <td>0.182137</td>\n      <td>0.028644</td>\n      <td>0.166542</td>\n      <td>0.077444</td>\n      <td>0.048807</td>\n      <td>0.468519</td>\n      <td>0.697902</td>\n    </tr>\n    <tr>\n      <th>18</th>\n      <td>12</td>\n      <td>1024</td>\n      <td>0.085196</td>\n      <td>0.146849</td>\n      <td>0.033087</td>\n      <td>0.149718</td>\n      <td>0.069756</td>\n      <td>0.048008</td>\n      <td>0.462382</td>\n      <td>0.697334</td>\n    </tr>\n    <tr>\n      <th>19</th>\n      <td>14</td>\n      <td>32</td>\n      <td>0.000000</td>\n      <td>0.000000</td>\n      <td>0.000000</td>\n      <td>0.000000</td>\n      <td>0.000000</td>\n      <td>0.000000</td>\n      <td>0.000000</td>\n      <td>0.000000</td>\n    </tr>\n    <tr>\n      <th>20</th>\n      <td>14</td>\n      <td>64</td>\n      <td>0.695935</td>\n      <td>0.631522</td>\n      <td>0.015767</td>\n      <td>0.456305</td>\n      <td>0.159991</td>\n      <td>0.012090</td>\n      <td>0.461107</td>\n      <td>0.521680</td>\n    </tr>\n    <tr>\n      <th>21</th>\n      <td>14</td>\n      <td>128</td>\n      <td>0.612335</td>\n      <td>0.495957</td>\n      <td>-0.151263</td>\n      <td>0.256687</td>\n      <td>0.171862</td>\n      <td>0.010158</td>\n      <td>0.495140</td>\n      <td>0.504450</td>\n    </tr>\n    <tr>\n      <th>22</th>\n      <td>14</td>\n      <td>256</td>\n      <td>0.000000</td>\n      <td>0.000000</td>\n      <td>0.000000</td>\n      <td>0.000000</td>\n      <td>0.000000</td>\n      <td>0.000000</td>\n      <td>0.000000</td>\n      <td>0.000000</td>\n    </tr>\n    <tr>\n      <th>23</th>\n      <td>14</td>\n      <td>512</td>\n      <td>0.627835</td>\n      <td>0.484176</td>\n      <td>-0.212100</td>\n      <td>0.220339</td>\n      <td>0.194759</td>\n      <td>0.012613</td>\n      <td>0.507632</td>\n      <td>0.501995</td>\n    </tr>\n    <tr>\n      <th>24</th>\n      <td>14</td>\n      <td>1024</td>\n      <td>0.625539</td>\n      <td>0.472466</td>\n      <td>-0.235830</td>\n      <td>0.202853</td>\n      <td>0.203664</td>\n      <td>0.012959</td>\n      <td>0.514030</td>\n      <td>0.508126</td>\n    </tr>\n  </tbody>\n</table>\n</div>"
     },
     "metadata": {},
     "output_type": "display_data"
    }
   ],
   "source": [
    "display(gen_res)\n",
    "# save to csv\n",
    "gen_res.to_csv(os.path.join(RESULTS_DIR, 'gen_res.csv'), index=False)"
   ],
   "metadata": {
    "collapsed": false,
    "ExecuteTime": {
     "end_time": "2023-09-06T14:38:05.149681720Z",
     "start_time": "2023-09-06T14:38:05.024654610Z"
    }
   }
  },
  {
   "cell_type": "markdown",
   "source": [
    "Process causal lm results"
   ],
   "metadata": {
    "collapsed": false
   }
  },
  {
   "cell_type": "code",
   "execution_count": 144,
   "outputs": [],
   "source": [
    "def parse_causal_lm_results(layers, dimensions, results):\n",
    "    out_row = {'layers': layers, 'dimensions': dimensions, 'perplexity': results['mean_perplexity'] if results else 0.}\n",
    "    return out_row"
   ],
   "metadata": {
    "collapsed": false,
    "ExecuteTime": {
     "end_time": "2023-09-06T14:38:05.254427684Z",
     "start_time": "2023-09-06T14:38:05.123469627Z"
    }
   }
  },
  {
   "cell_type": "code",
   "execution_count": 145,
   "outputs": [
    {
     "name": "stdout",
     "output_type": "stream",
     "text": [
      "File ../../../results/DAMA/llama_13B/l8_on_nd32_ncv_val_neutral_delta_only_nw/res_causal_lm_wikitext_wikitext-103-raw-v1.json not found\n",
      "File ../../../results/DAMA/llama_13B/l8_on_nd256_ncv_val_neutral_delta_only_nw/res_causal_lm_wikitext_wikitext-103-raw-v1.json not found\n",
      "File ../../../results/DAMA/llama_13B/l10_on_nd32_ncv_val_neutral_delta_only_nw/res_causal_lm_wikitext_wikitext-103-raw-v1.json not found\n",
      "File ../../../results/DAMA/llama_13B/l10_on_nd256_ncv_val_neutral_delta_only_nw/res_causal_lm_wikitext_wikitext-103-raw-v1.json not found\n",
      "File ../../../results/DAMA/llama_13B/l12_on_nd32_ncv_val_neutral_delta_only_nw/res_causal_lm_wikitext_wikitext-103-raw-v1.json not found\n",
      "File ../../../results/DAMA/llama_13B/l12_on_nd256_ncv_val_neutral_delta_only_nw/res_causal_lm_wikitext_wikitext-103-raw-v1.json not found\n",
      "File ../../../results/DAMA/llama_13B/l14_on_nd32_ncv_val_neutral_delta_only_nw/res_causal_lm_wikitext_wikitext-103-raw-v1.json not found\n",
      "File ../../../results/DAMA/llama_13B/l14_on_nd256_ncv_val_neutral_delta_only_nw/res_causal_lm_wikitext_wikitext-103-raw-v1.json not found\n"
     ]
    }
   ],
   "source": [
    "lm_res = pd.DataFrame(columns=['layers', 'dimensions', 'perplexity'])\n",
    "\n",
    "test_file = 'res_causal_lm_wikitext_wikitext-103-raw-v1.json'\n",
    "# row = {'layers': None,'dimensions': None, 'perplexity': 0.}\n",
    "\n",
    "tmp_res = load_data_file(model_name, 'original', None, test_file)\n",
    "lm_res.loc[len(lm_res)] = parse_causal_lm_results(0, 0, tmp_res)\n",
    "\n",
    "for num_layers in variable_parameters['num_layers']:\n",
    "    for null_dim in variable_parameters['null_dim']:\n",
    "        vs_at_last = True\n",
    "        experiment_name = parse_experiment_name(**default_params, num_layers=num_layers, null_dim=null_dim)\n",
    "        tmp_res = load_data_file(model_name, 'DAMA', experiment_name, test_file)\n",
    "        lm_res.loc[len(lm_res)] = parse_causal_lm_results(num_layers, null_dim, tmp_res)"
   ],
   "metadata": {
    "collapsed": false,
    "ExecuteTime": {
     "end_time": "2023-09-06T14:38:05.282352064Z",
     "start_time": "2023-09-06T14:38:05.149892111Z"
    }
   }
  },
  {
   "cell_type": "code",
   "execution_count": 146,
   "outputs": [
    {
     "data": {
      "text/plain": "    layers  dimensions  perplexity\n0        0           0   19.827272\n1        8          32    0.000000\n2        8          64   19.881645\n3        8         128   19.656230\n4        8         256    0.000000\n5        8         512   18.972118\n6        8        1024   19.834539\n7       10          32    0.000000\n8       10          64   17.759147\n9       10         128   18.925584\n10      10         256    0.000000\n11      10         512   20.993210\n12      10        1024   19.747408\n13      12          32    0.000000\n14      12          64   28.646076\n15      12         128   28.616625\n16      12         256    0.000000\n17      12         512   29.508102\n18      12        1024   29.748607\n19      14          32    0.000000\n20      14          64   39.171814\n21      14         128   39.283567\n22      14         256    0.000000\n23      14         512   39.345497\n24      14        1024   42.213137",
      "text/html": "<div>\n<style scoped>\n    .dataframe tbody tr th:only-of-type {\n        vertical-align: middle;\n    }\n\n    .dataframe tbody tr th {\n        vertical-align: top;\n    }\n\n    .dataframe thead th {\n        text-align: right;\n    }\n</style>\n<table border=\"1\" class=\"dataframe\">\n  <thead>\n    <tr style=\"text-align: right;\">\n      <th></th>\n      <th>layers</th>\n      <th>dimensions</th>\n      <th>perplexity</th>\n    </tr>\n  </thead>\n  <tbody>\n    <tr>\n      <th>0</th>\n      <td>0</td>\n      <td>0</td>\n      <td>19.827272</td>\n    </tr>\n    <tr>\n      <th>1</th>\n      <td>8</td>\n      <td>32</td>\n      <td>0.000000</td>\n    </tr>\n    <tr>\n      <th>2</th>\n      <td>8</td>\n      <td>64</td>\n      <td>19.881645</td>\n    </tr>\n    <tr>\n      <th>3</th>\n      <td>8</td>\n      <td>128</td>\n      <td>19.656230</td>\n    </tr>\n    <tr>\n      <th>4</th>\n      <td>8</td>\n      <td>256</td>\n      <td>0.000000</td>\n    </tr>\n    <tr>\n      <th>5</th>\n      <td>8</td>\n      <td>512</td>\n      <td>18.972118</td>\n    </tr>\n    <tr>\n      <th>6</th>\n      <td>8</td>\n      <td>1024</td>\n      <td>19.834539</td>\n    </tr>\n    <tr>\n      <th>7</th>\n      <td>10</td>\n      <td>32</td>\n      <td>0.000000</td>\n    </tr>\n    <tr>\n      <th>8</th>\n      <td>10</td>\n      <td>64</td>\n      <td>17.759147</td>\n    </tr>\n    <tr>\n      <th>9</th>\n      <td>10</td>\n      <td>128</td>\n      <td>18.925584</td>\n    </tr>\n    <tr>\n      <th>10</th>\n      <td>10</td>\n      <td>256</td>\n      <td>0.000000</td>\n    </tr>\n    <tr>\n      <th>11</th>\n      <td>10</td>\n      <td>512</td>\n      <td>20.993210</td>\n    </tr>\n    <tr>\n      <th>12</th>\n      <td>10</td>\n      <td>1024</td>\n      <td>19.747408</td>\n    </tr>\n    <tr>\n      <th>13</th>\n      <td>12</td>\n      <td>32</td>\n      <td>0.000000</td>\n    </tr>\n    <tr>\n      <th>14</th>\n      <td>12</td>\n      <td>64</td>\n      <td>28.646076</td>\n    </tr>\n    <tr>\n      <th>15</th>\n      <td>12</td>\n      <td>128</td>\n      <td>28.616625</td>\n    </tr>\n    <tr>\n      <th>16</th>\n      <td>12</td>\n      <td>256</td>\n      <td>0.000000</td>\n    </tr>\n    <tr>\n      <th>17</th>\n      <td>12</td>\n      <td>512</td>\n      <td>29.508102</td>\n    </tr>\n    <tr>\n      <th>18</th>\n      <td>12</td>\n      <td>1024</td>\n      <td>29.748607</td>\n    </tr>\n    <tr>\n      <th>19</th>\n      <td>14</td>\n      <td>32</td>\n      <td>0.000000</td>\n    </tr>\n    <tr>\n      <th>20</th>\n      <td>14</td>\n      <td>64</td>\n      <td>39.171814</td>\n    </tr>\n    <tr>\n      <th>21</th>\n      <td>14</td>\n      <td>128</td>\n      <td>39.283567</td>\n    </tr>\n    <tr>\n      <th>22</th>\n      <td>14</td>\n      <td>256</td>\n      <td>0.000000</td>\n    </tr>\n    <tr>\n      <th>23</th>\n      <td>14</td>\n      <td>512</td>\n      <td>39.345497</td>\n    </tr>\n    <tr>\n      <th>24</th>\n      <td>14</td>\n      <td>1024</td>\n      <td>42.213137</td>\n    </tr>\n  </tbody>\n</table>\n</div>"
     },
     "metadata": {},
     "output_type": "display_data"
    }
   ],
   "source": [
    "display(lm_res)\n",
    "# save to csv\n",
    "lm_res.to_csv(os.path.join(RESULTS_DIR, 'lm_res.csv'), index=False)"
   ],
   "metadata": {
    "collapsed": false,
    "ExecuteTime": {
     "end_time": "2023-09-06T14:38:05.420194097Z",
     "start_time": "2023-09-06T14:38:05.275356583Z"
    }
   }
  },
  {
   "cell_type": "markdown",
   "source": [
    "Process coreference results"
   ],
   "metadata": {
    "collapsed": false
   }
  },
  {
   "cell_type": "code",
   "execution_count": 147,
   "outputs": [],
   "source": [
    "def parse_coref_results(layers, dimensions, results_a1, results_a2, results_p1, results_p2):\n",
    "    out_row = {'layers': layers, 'dimensions': dimensions}\n",
    "\n",
    "    if results_a1 is None or results_a2 is None or results_p1 is None or results_p2 is None:\n",
    "        out_row['anti_male'] = 0.\n",
    "        out_row['anti_female'] = 0.\n",
    "        out_row['pro_male'] = 0.\n",
    "        out_row['pro_female'] = 0.\n",
    "    else:\n",
    "        out_row['anti_male'] = (results_a1['m_acc'] + results_a2['m_acc']) / 2.\n",
    "        out_row['anti_female'] = (results_a1['f_acc'] + results_a2['f_acc']) / 2.\n",
    "        out_row['pro_male'] = (results_p1['m_acc'] + results_p2['m_acc']) / 2.\n",
    "        out_row['pro_female'] = (results_p1['f_acc'] + results_p2['f_acc']) / 2.\n",
    "\n",
    "    out_row['ACC'] = (out_row['anti_male'] + out_row['anti_female'] + out_row['pro_male'] + out_row['pro_female']) / 4.\n",
    "    out_row['Delta_S'] = (out_row['pro_male'] + out_row['pro_female'] - out_row['anti_male'] - out_row['anti_female']) / 2.\n",
    "    out_row['Delta_G'] = (out_row['pro_male'] + out_row['anti_male'] - out_row['pro_female'] - out_row['anti_female']) / 2.\n",
    "    return out_row"
   ],
   "metadata": {
    "collapsed": false,
    "ExecuteTime": {
     "end_time": "2023-09-06T14:38:05.420717684Z",
     "start_time": "2023-09-06T14:38:05.392428975Z"
    }
   }
  },
  {
   "cell_type": "code",
   "execution_count": 148,
   "outputs": [
    {
     "name": "stdout",
     "output_type": "stream",
     "text": [
      "File ../../../results/DAMA/llama_13B/l8_on_nd32_ncv_val_neutral_delta_only_nw/res_coref_anti_type1_test.json not found\n",
      "File ../../../results/DAMA/llama_13B/l8_on_nd32_ncv_val_neutral_delta_only_nw/res_coref_anti_type2_test.json not found\n",
      "File ../../../results/DAMA/llama_13B/l8_on_nd32_ncv_val_neutral_delta_only_nw/res_coref_pro_type1_test.json not found\n",
      "File ../../../results/DAMA/llama_13B/l8_on_nd32_ncv_val_neutral_delta_only_nw/res_coref_pro_type2_test.json not found\n",
      "File ../../../results/DAMA/llama_13B/l8_on_nd256_ncv_val_neutral_delta_only_nw/res_coref_anti_type1_test.json not found\n",
      "File ../../../results/DAMA/llama_13B/l8_on_nd256_ncv_val_neutral_delta_only_nw/res_coref_anti_type2_test.json not found\n",
      "File ../../../results/DAMA/llama_13B/l8_on_nd256_ncv_val_neutral_delta_only_nw/res_coref_pro_type1_test.json not found\n",
      "File ../../../results/DAMA/llama_13B/l8_on_nd256_ncv_val_neutral_delta_only_nw/res_coref_pro_type2_test.json not found\n",
      "File ../../../results/DAMA/llama_13B/l10_on_nd32_ncv_val_neutral_delta_only_nw/res_coref_anti_type1_test.json not found\n",
      "File ../../../results/DAMA/llama_13B/l10_on_nd32_ncv_val_neutral_delta_only_nw/res_coref_anti_type2_test.json not found\n",
      "File ../../../results/DAMA/llama_13B/l10_on_nd32_ncv_val_neutral_delta_only_nw/res_coref_pro_type1_test.json not found\n",
      "File ../../../results/DAMA/llama_13B/l10_on_nd32_ncv_val_neutral_delta_only_nw/res_coref_pro_type2_test.json not found\n",
      "File ../../../results/DAMA/llama_13B/l10_on_nd256_ncv_val_neutral_delta_only_nw/res_coref_anti_type1_test.json not found\n",
      "File ../../../results/DAMA/llama_13B/l10_on_nd256_ncv_val_neutral_delta_only_nw/res_coref_anti_type2_test.json not found\n",
      "File ../../../results/DAMA/llama_13B/l10_on_nd256_ncv_val_neutral_delta_only_nw/res_coref_pro_type1_test.json not found\n",
      "File ../../../results/DAMA/llama_13B/l10_on_nd256_ncv_val_neutral_delta_only_nw/res_coref_pro_type2_test.json not found\n",
      "File ../../../results/DAMA/llama_13B/l12_on_nd32_ncv_val_neutral_delta_only_nw/res_coref_anti_type1_test.json not found\n",
      "File ../../../results/DAMA/llama_13B/l12_on_nd32_ncv_val_neutral_delta_only_nw/res_coref_anti_type2_test.json not found\n",
      "File ../../../results/DAMA/llama_13B/l12_on_nd32_ncv_val_neutral_delta_only_nw/res_coref_pro_type1_test.json not found\n",
      "File ../../../results/DAMA/llama_13B/l12_on_nd32_ncv_val_neutral_delta_only_nw/res_coref_pro_type2_test.json not found\n",
      "File ../../../results/DAMA/llama_13B/l12_on_nd256_ncv_val_neutral_delta_only_nw/res_coref_anti_type1_test.json not found\n",
      "File ../../../results/DAMA/llama_13B/l12_on_nd256_ncv_val_neutral_delta_only_nw/res_coref_anti_type2_test.json not found\n",
      "File ../../../results/DAMA/llama_13B/l12_on_nd256_ncv_val_neutral_delta_only_nw/res_coref_pro_type1_test.json not found\n",
      "File ../../../results/DAMA/llama_13B/l12_on_nd256_ncv_val_neutral_delta_only_nw/res_coref_pro_type2_test.json not found\n",
      "File ../../../results/DAMA/llama_13B/l14_on_nd32_ncv_val_neutral_delta_only_nw/res_coref_anti_type1_test.json not found\n",
      "File ../../../results/DAMA/llama_13B/l14_on_nd32_ncv_val_neutral_delta_only_nw/res_coref_anti_type2_test.json not found\n",
      "File ../../../results/DAMA/llama_13B/l14_on_nd32_ncv_val_neutral_delta_only_nw/res_coref_pro_type1_test.json not found\n",
      "File ../../../results/DAMA/llama_13B/l14_on_nd32_ncv_val_neutral_delta_only_nw/res_coref_pro_type2_test.json not found\n",
      "File ../../../results/DAMA/llama_13B/l14_on_nd256_ncv_val_neutral_delta_only_nw/res_coref_anti_type1_test.json not found\n",
      "File ../../../results/DAMA/llama_13B/l14_on_nd256_ncv_val_neutral_delta_only_nw/res_coref_anti_type2_test.json not found\n",
      "File ../../../results/DAMA/llama_13B/l14_on_nd256_ncv_val_neutral_delta_only_nw/res_coref_pro_type1_test.json not found\n",
      "File ../../../results/DAMA/llama_13B/l14_on_nd256_ncv_val_neutral_delta_only_nw/res_coref_pro_type2_test.json not found\n"
     ]
    }
   ],
   "source": [
    "lm_rs = pd.DataFrame(columns=['layers', 'dimensions', 'ACC', 'Delta_S', 'Delta_G', 'anti_male', 'anti_female', 'pro_male', 'pro_female'])\n",
    "\n",
    "test_file_a1 = 'res_coref_anti_type1_test.json'\n",
    "test_file_a2 = 'res_coref_anti_type2_test.json'\n",
    "test_file_p1 = 'res_coref_pro_type1_test.json'\n",
    "test_file_p2 = 'res_coref_pro_type2_test.json'\n",
    "\n",
    "\n",
    "tmp_res_a1 = load_data_file(model_name, 'original', None, test_file_a1)\n",
    "tmp_res_a2 = load_data_file(model_name, 'original', None, test_file_a2)\n",
    "tmp_res_p1 = load_data_file(model_name, 'original', None, test_file_p1)\n",
    "tmp_res_p2 = load_data_file(model_name, 'original', None, test_file_p2)\n",
    "\n",
    "lm_rs.loc[len(lm_rs)] = parse_coref_results(0, 0, tmp_res_a1, tmp_res_a2, tmp_res_p1, tmp_res_p2)\n",
    "\n",
    "for num_layers in variable_parameters['num_layers']:\n",
    "    for null_dim in variable_parameters['null_dim']:\n",
    "        vs_at_last = True\n",
    "        experiment_name = parse_experiment_name(**default_params, num_layers=num_layers, null_dim=null_dim)\n",
    "        tmp_res_a1 = load_data_file(model_name, 'DAMA', experiment_name, test_file_a1)\n",
    "        tmp_res_a2 = load_data_file(model_name, 'DAMA', experiment_name, test_file_a2)\n",
    "        tmp_res_p1 = load_data_file(model_name, 'DAMA', experiment_name, test_file_p1)\n",
    "        tmp_res_p2 = load_data_file(model_name, 'DAMA', experiment_name, test_file_p2)\n",
    "        lm_rs.loc[len(lm_rs)] = parse_coref_results(num_layers, null_dim, tmp_res_a1, tmp_res_a2, tmp_res_p1, tmp_res_p2)\n",
    "\n"
   ],
   "metadata": {
    "collapsed": false,
    "ExecuteTime": {
     "end_time": "2023-09-06T14:38:05.573773758Z",
     "start_time": "2023-09-06T14:38:05.392790693Z"
    }
   }
  },
  {
   "cell_type": "code",
   "execution_count": 149,
   "outputs": [
    {
     "data": {
      "text/plain": "    layers  dimensions       ACC   Delta_S   Delta_G  anti_male  anti_female   \n0        0           0  0.705200  0.357277 -0.014718   0.496692     0.556432  \\\n1        8          32  0.000000  0.000000  0.000000   0.000000     0.000000   \n2        8          64  0.703274  0.345977 -0.003367   0.516818     0.543754   \n3        8         128  0.696285  0.324601 -0.004667   0.531843     0.536127   \n4        8         256  0.000000  0.000000  0.000000   0.000000     0.000000   \n5        8         512  0.667289  0.296736  0.003125   0.511944     0.525897   \n6        8        1024  0.640174  0.255006 -0.008176   0.499444     0.525897   \n7       10          32  0.000000  0.000000  0.000000   0.000000     0.000000   \n8       10          64  0.698861  0.342176 -0.004617   0.514318     0.541229   \n9       10         128  0.695080  0.321961 -0.009680   0.521894     0.546305   \n10      10         256  0.000000  0.000000  0.000000   0.000000     0.000000   \n11      10         512  0.664176  0.310536 -0.010727   0.491869     0.525948   \n12      10        1024  0.635078  0.242470  0.004541   0.527222     0.500464   \n13      12          32  0.000000  0.000000  0.000000   0.000000     0.000000   \n14      12          64  0.700723  0.353604 -0.000816   0.519318     0.528525   \n15      12         128  0.693160  0.330851  0.001735   0.521894     0.533576   \n16      12         256  0.000000  0.000000  0.000000   0.000000     0.000000   \n17      12         512  0.651422  0.305742  0.019681   0.527071     0.470032   \n18      12        1024  0.634944  0.247789  0.014657   0.580000     0.442100   \n19      14          32  0.000000  0.000000  0.000000   0.000000     0.000000   \n20      14          64  0.665369  0.280373 -0.005662   0.537197     0.513167   \n21      14         128  0.651626  0.307859 -0.030752   0.451793     0.543599   \n22      14         256  0.000000  0.000000  0.000000   0.000000     0.000000   \n23      14         512  0.659700  0.314439 -0.001849   0.504419     0.500541   \n24      14        1024  0.670860  0.266866  0.015679   0.602348     0.472506   \n\n    pro_male  pro_female  \n0   0.898990    0.868687  \n1   0.000000    0.000000  \n2   0.886364    0.866162  \n3   0.856061    0.861111  \n4   0.000000    0.000000  \n5   0.825758    0.805556  \n6   0.772727    0.762626  \n7   0.000000    0.000000  \n8   0.878788    0.861111  \n9   0.858586    0.853535  \n10  0.000000    0.000000  \n11  0.825758    0.813131  \n12  0.747475    0.765152  \n13  0.000000    0.000000  \n14  0.881313    0.873737  \n15  0.866162    0.851010  \n16  0.000000    0.000000  \n17  0.795455    0.813131  \n18  0.704545    0.813131  \n19  0.000000    0.000000  \n20  0.787879    0.823232  \n21  0.820707    0.790404  \n22  0.000000    0.000000  \n23  0.813131    0.820707  \n24  0.755051    0.853535  ",
      "text/html": "<div>\n<style scoped>\n    .dataframe tbody tr th:only-of-type {\n        vertical-align: middle;\n    }\n\n    .dataframe tbody tr th {\n        vertical-align: top;\n    }\n\n    .dataframe thead th {\n        text-align: right;\n    }\n</style>\n<table border=\"1\" class=\"dataframe\">\n  <thead>\n    <tr style=\"text-align: right;\">\n      <th></th>\n      <th>layers</th>\n      <th>dimensions</th>\n      <th>ACC</th>\n      <th>Delta_S</th>\n      <th>Delta_G</th>\n      <th>anti_male</th>\n      <th>anti_female</th>\n      <th>pro_male</th>\n      <th>pro_female</th>\n    </tr>\n  </thead>\n  <tbody>\n    <tr>\n      <th>0</th>\n      <td>0</td>\n      <td>0</td>\n      <td>0.705200</td>\n      <td>0.357277</td>\n      <td>-0.014718</td>\n      <td>0.496692</td>\n      <td>0.556432</td>\n      <td>0.898990</td>\n      <td>0.868687</td>\n    </tr>\n    <tr>\n      <th>1</th>\n      <td>8</td>\n      <td>32</td>\n      <td>0.000000</td>\n      <td>0.000000</td>\n      <td>0.000000</td>\n      <td>0.000000</td>\n      <td>0.000000</td>\n      <td>0.000000</td>\n      <td>0.000000</td>\n    </tr>\n    <tr>\n      <th>2</th>\n      <td>8</td>\n      <td>64</td>\n      <td>0.703274</td>\n      <td>0.345977</td>\n      <td>-0.003367</td>\n      <td>0.516818</td>\n      <td>0.543754</td>\n      <td>0.886364</td>\n      <td>0.866162</td>\n    </tr>\n    <tr>\n      <th>3</th>\n      <td>8</td>\n      <td>128</td>\n      <td>0.696285</td>\n      <td>0.324601</td>\n      <td>-0.004667</td>\n      <td>0.531843</td>\n      <td>0.536127</td>\n      <td>0.856061</td>\n      <td>0.861111</td>\n    </tr>\n    <tr>\n      <th>4</th>\n      <td>8</td>\n      <td>256</td>\n      <td>0.000000</td>\n      <td>0.000000</td>\n      <td>0.000000</td>\n      <td>0.000000</td>\n      <td>0.000000</td>\n      <td>0.000000</td>\n      <td>0.000000</td>\n    </tr>\n    <tr>\n      <th>5</th>\n      <td>8</td>\n      <td>512</td>\n      <td>0.667289</td>\n      <td>0.296736</td>\n      <td>0.003125</td>\n      <td>0.511944</td>\n      <td>0.525897</td>\n      <td>0.825758</td>\n      <td>0.805556</td>\n    </tr>\n    <tr>\n      <th>6</th>\n      <td>8</td>\n      <td>1024</td>\n      <td>0.640174</td>\n      <td>0.255006</td>\n      <td>-0.008176</td>\n      <td>0.499444</td>\n      <td>0.525897</td>\n      <td>0.772727</td>\n      <td>0.762626</td>\n    </tr>\n    <tr>\n      <th>7</th>\n      <td>10</td>\n      <td>32</td>\n      <td>0.000000</td>\n      <td>0.000000</td>\n      <td>0.000000</td>\n      <td>0.000000</td>\n      <td>0.000000</td>\n      <td>0.000000</td>\n      <td>0.000000</td>\n    </tr>\n    <tr>\n      <th>8</th>\n      <td>10</td>\n      <td>64</td>\n      <td>0.698861</td>\n      <td>0.342176</td>\n      <td>-0.004617</td>\n      <td>0.514318</td>\n      <td>0.541229</td>\n      <td>0.878788</td>\n      <td>0.861111</td>\n    </tr>\n    <tr>\n      <th>9</th>\n      <td>10</td>\n      <td>128</td>\n      <td>0.695080</td>\n      <td>0.321961</td>\n      <td>-0.009680</td>\n      <td>0.521894</td>\n      <td>0.546305</td>\n      <td>0.858586</td>\n      <td>0.853535</td>\n    </tr>\n    <tr>\n      <th>10</th>\n      <td>10</td>\n      <td>256</td>\n      <td>0.000000</td>\n      <td>0.000000</td>\n      <td>0.000000</td>\n      <td>0.000000</td>\n      <td>0.000000</td>\n      <td>0.000000</td>\n      <td>0.000000</td>\n    </tr>\n    <tr>\n      <th>11</th>\n      <td>10</td>\n      <td>512</td>\n      <td>0.664176</td>\n      <td>0.310536</td>\n      <td>-0.010727</td>\n      <td>0.491869</td>\n      <td>0.525948</td>\n      <td>0.825758</td>\n      <td>0.813131</td>\n    </tr>\n    <tr>\n      <th>12</th>\n      <td>10</td>\n      <td>1024</td>\n      <td>0.635078</td>\n      <td>0.242470</td>\n      <td>0.004541</td>\n      <td>0.527222</td>\n      <td>0.500464</td>\n      <td>0.747475</td>\n      <td>0.765152</td>\n    </tr>\n    <tr>\n      <th>13</th>\n      <td>12</td>\n      <td>32</td>\n      <td>0.000000</td>\n      <td>0.000000</td>\n      <td>0.000000</td>\n      <td>0.000000</td>\n      <td>0.000000</td>\n      <td>0.000000</td>\n      <td>0.000000</td>\n    </tr>\n    <tr>\n      <th>14</th>\n      <td>12</td>\n      <td>64</td>\n      <td>0.700723</td>\n      <td>0.353604</td>\n      <td>-0.000816</td>\n      <td>0.519318</td>\n      <td>0.528525</td>\n      <td>0.881313</td>\n      <td>0.873737</td>\n    </tr>\n    <tr>\n      <th>15</th>\n      <td>12</td>\n      <td>128</td>\n      <td>0.693160</td>\n      <td>0.330851</td>\n      <td>0.001735</td>\n      <td>0.521894</td>\n      <td>0.533576</td>\n      <td>0.866162</td>\n      <td>0.851010</td>\n    </tr>\n    <tr>\n      <th>16</th>\n      <td>12</td>\n      <td>256</td>\n      <td>0.000000</td>\n      <td>0.000000</td>\n      <td>0.000000</td>\n      <td>0.000000</td>\n      <td>0.000000</td>\n      <td>0.000000</td>\n      <td>0.000000</td>\n    </tr>\n    <tr>\n      <th>17</th>\n      <td>12</td>\n      <td>512</td>\n      <td>0.651422</td>\n      <td>0.305742</td>\n      <td>0.019681</td>\n      <td>0.527071</td>\n      <td>0.470032</td>\n      <td>0.795455</td>\n      <td>0.813131</td>\n    </tr>\n    <tr>\n      <th>18</th>\n      <td>12</td>\n      <td>1024</td>\n      <td>0.634944</td>\n      <td>0.247789</td>\n      <td>0.014657</td>\n      <td>0.580000</td>\n      <td>0.442100</td>\n      <td>0.704545</td>\n      <td>0.813131</td>\n    </tr>\n    <tr>\n      <th>19</th>\n      <td>14</td>\n      <td>32</td>\n      <td>0.000000</td>\n      <td>0.000000</td>\n      <td>0.000000</td>\n      <td>0.000000</td>\n      <td>0.000000</td>\n      <td>0.000000</td>\n      <td>0.000000</td>\n    </tr>\n    <tr>\n      <th>20</th>\n      <td>14</td>\n      <td>64</td>\n      <td>0.665369</td>\n      <td>0.280373</td>\n      <td>-0.005662</td>\n      <td>0.537197</td>\n      <td>0.513167</td>\n      <td>0.787879</td>\n      <td>0.823232</td>\n    </tr>\n    <tr>\n      <th>21</th>\n      <td>14</td>\n      <td>128</td>\n      <td>0.651626</td>\n      <td>0.307859</td>\n      <td>-0.030752</td>\n      <td>0.451793</td>\n      <td>0.543599</td>\n      <td>0.820707</td>\n      <td>0.790404</td>\n    </tr>\n    <tr>\n      <th>22</th>\n      <td>14</td>\n      <td>256</td>\n      <td>0.000000</td>\n      <td>0.000000</td>\n      <td>0.000000</td>\n      <td>0.000000</td>\n      <td>0.000000</td>\n      <td>0.000000</td>\n      <td>0.000000</td>\n    </tr>\n    <tr>\n      <th>23</th>\n      <td>14</td>\n      <td>512</td>\n      <td>0.659700</td>\n      <td>0.314439</td>\n      <td>-0.001849</td>\n      <td>0.504419</td>\n      <td>0.500541</td>\n      <td>0.813131</td>\n      <td>0.820707</td>\n    </tr>\n    <tr>\n      <th>24</th>\n      <td>14</td>\n      <td>1024</td>\n      <td>0.670860</td>\n      <td>0.266866</td>\n      <td>0.015679</td>\n      <td>0.602348</td>\n      <td>0.472506</td>\n      <td>0.755051</td>\n      <td>0.853535</td>\n    </tr>\n  </tbody>\n</table>\n</div>"
     },
     "metadata": {},
     "output_type": "display_data"
    }
   ],
   "source": [
    "display(lm_rs)\n",
    "# save to csv\n",
    "lm_rs.to_csv(os.path.join(RESULTS_DIR, 'coref_res.csv'), index=False)"
   ],
   "metadata": {
    "collapsed": false,
    "ExecuteTime": {
     "end_time": "2023-09-06T14:38:05.650918825Z",
     "start_time": "2023-09-06T14:38:05.544175152Z"
    }
   }
  },
  {
   "cell_type": "code",
   "execution_count": 149,
   "outputs": [],
   "source": [],
   "metadata": {
    "collapsed": false,
    "ExecuteTime": {
     "end_time": "2023-09-06T14:38:05.651178868Z",
     "start_time": "2023-09-06T14:38:05.647666280Z"
    }
   }
  }
 ],
 "metadata": {
  "kernelspec": {
   "display_name": "Python 3",
   "language": "python",
   "name": "python3"
  },
  "language_info": {
   "codemirror_mode": {
    "name": "ipython",
    "version": 2
   },
   "file_extension": ".py",
   "mimetype": "text/x-python",
   "name": "python",
   "nbconvert_exporter": "python",
   "pygments_lexer": "ipython2",
   "version": "2.7.6"
  }
 },
 "nbformat": 4,
 "nbformat_minor": 0
}
